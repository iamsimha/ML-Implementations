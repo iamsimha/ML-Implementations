{
  "nbformat": 4,
  "nbformat_minor": 0,
  "metadata": {
    "colab": {
      "name": "copy_paste_task.ipynb",
      "provenance": [],
      "collapsed_sections": [],
      "authorship_tag": "ABX9TyNP2bBt7EdQXtsJhHVGDw9f",
      "include_colab_link": true
    },
    "kernelspec": {
      "name": "python3",
      "display_name": "Python 3"
    },
    "language_info": {
      "name": "python"
    },
    "accelerator": "GPU"
  },
  "cells": [
    {
      "cell_type": "markdown",
      "metadata": {
        "id": "view-in-github",
        "colab_type": "text"
      },
      "source": [
        "<a href=\"https://colab.research.google.com/github/iamsimha/ML-Implementations/blob/master/copy_paste_task.ipynb\" target=\"_parent\"><img src=\"https://colab.research.google.com/assets/colab-badge.svg\" alt=\"Open In Colab\"/></a>"
      ]
    },
    {
      "cell_type": "code",
      "metadata": {
        "id": "r4XV1I_i7trS"
      },
      "source": [
        "import torch\n",
        "import torch.nn as nn\n",
        "import math\n",
        "from torch.nn import Transformer\n",
        "\n",
        "\n",
        "device = torch.device('cuda:0' if torch.cuda.is_available() else 'cpu')"
      ],
      "execution_count": 2,
      "outputs": []
    },
    {
      "cell_type": "code",
      "metadata": {
        "colab": {
          "base_uri": "https://localhost:8080/"
        },
        "id": "QJmvHIOSI4Jc",
        "outputId": "479e5b97-e9b8-48e1-f3bb-f4d0a572fa1a"
      },
      "source": [
        "   !python -m spacy download en\n",
        "   !python -m spacy download de"
      ],
      "execution_count": 3,
      "outputs": [
        {
          "output_type": "stream",
          "text": [
            "Requirement already satisfied: en_core_web_sm==2.2.5 from https://github.com/explosion/spacy-models/releases/download/en_core_web_sm-2.2.5/en_core_web_sm-2.2.5.tar.gz#egg=en_core_web_sm==2.2.5 in /usr/local/lib/python3.7/dist-packages (2.2.5)\n",
            "Requirement already satisfied: spacy>=2.2.2 in /usr/local/lib/python3.7/dist-packages (from en_core_web_sm==2.2.5) (2.2.4)\n",
            "Requirement already satisfied: cymem<2.1.0,>=2.0.2 in /usr/local/lib/python3.7/dist-packages (from spacy>=2.2.2->en_core_web_sm==2.2.5) (2.0.5)\n",
            "Requirement already satisfied: numpy>=1.15.0 in /usr/local/lib/python3.7/dist-packages (from spacy>=2.2.2->en_core_web_sm==2.2.5) (1.19.5)\n",
            "Requirement already satisfied: catalogue<1.1.0,>=0.0.7 in /usr/local/lib/python3.7/dist-packages (from spacy>=2.2.2->en_core_web_sm==2.2.5) (1.0.0)\n",
            "Requirement already satisfied: murmurhash<1.1.0,>=0.28.0 in /usr/local/lib/python3.7/dist-packages (from spacy>=2.2.2->en_core_web_sm==2.2.5) (1.0.5)\n",
            "Requirement already satisfied: plac<1.2.0,>=0.9.6 in /usr/local/lib/python3.7/dist-packages (from spacy>=2.2.2->en_core_web_sm==2.2.5) (1.1.3)\n",
            "Requirement already satisfied: requests<3.0.0,>=2.13.0 in /usr/local/lib/python3.7/dist-packages (from spacy>=2.2.2->en_core_web_sm==2.2.5) (2.23.0)\n",
            "Requirement already satisfied: blis<0.5.0,>=0.4.0 in /usr/local/lib/python3.7/dist-packages (from spacy>=2.2.2->en_core_web_sm==2.2.5) (0.4.1)\n",
            "Requirement already satisfied: tqdm<5.0.0,>=4.38.0 in /usr/local/lib/python3.7/dist-packages (from spacy>=2.2.2->en_core_web_sm==2.2.5) (4.41.1)\n",
            "Requirement already satisfied: srsly<1.1.0,>=1.0.2 in /usr/local/lib/python3.7/dist-packages (from spacy>=2.2.2->en_core_web_sm==2.2.5) (1.0.5)\n",
            "Requirement already satisfied: preshed<3.1.0,>=3.0.2 in /usr/local/lib/python3.7/dist-packages (from spacy>=2.2.2->en_core_web_sm==2.2.5) (3.0.5)\n",
            "Requirement already satisfied: wasabi<1.1.0,>=0.4.0 in /usr/local/lib/python3.7/dist-packages (from spacy>=2.2.2->en_core_web_sm==2.2.5) (0.8.2)\n",
            "Requirement already satisfied: thinc==7.4.0 in /usr/local/lib/python3.7/dist-packages (from spacy>=2.2.2->en_core_web_sm==2.2.5) (7.4.0)\n",
            "Requirement already satisfied: setuptools in /usr/local/lib/python3.7/dist-packages (from spacy>=2.2.2->en_core_web_sm==2.2.5) (54.0.0)\n",
            "Requirement already satisfied: importlib-metadata>=0.20; python_version < \"3.8\" in /usr/local/lib/python3.7/dist-packages (from catalogue<1.1.0,>=0.0.7->spacy>=2.2.2->en_core_web_sm==2.2.5) (3.7.2)\n",
            "Requirement already satisfied: idna<3,>=2.5 in /usr/local/lib/python3.7/dist-packages (from requests<3.0.0,>=2.13.0->spacy>=2.2.2->en_core_web_sm==2.2.5) (2.10)\n",
            "Requirement already satisfied: urllib3!=1.25.0,!=1.25.1,<1.26,>=1.21.1 in /usr/local/lib/python3.7/dist-packages (from requests<3.0.0,>=2.13.0->spacy>=2.2.2->en_core_web_sm==2.2.5) (1.24.3)\n",
            "Requirement already satisfied: certifi>=2017.4.17 in /usr/local/lib/python3.7/dist-packages (from requests<3.0.0,>=2.13.0->spacy>=2.2.2->en_core_web_sm==2.2.5) (2020.12.5)\n",
            "Requirement already satisfied: chardet<4,>=3.0.2 in /usr/local/lib/python3.7/dist-packages (from requests<3.0.0,>=2.13.0->spacy>=2.2.2->en_core_web_sm==2.2.5) (3.0.4)\n",
            "Requirement already satisfied: zipp>=0.5 in /usr/local/lib/python3.7/dist-packages (from importlib-metadata>=0.20; python_version < \"3.8\"->catalogue<1.1.0,>=0.0.7->spacy>=2.2.2->en_core_web_sm==2.2.5) (3.4.1)\n",
            "Requirement already satisfied: typing-extensions>=3.6.4; python_version < \"3.8\" in /usr/local/lib/python3.7/dist-packages (from importlib-metadata>=0.20; python_version < \"3.8\"->catalogue<1.1.0,>=0.0.7->spacy>=2.2.2->en_core_web_sm==2.2.5) (3.7.4.3)\n",
            "\u001b[38;5;2m✔ Download and installation successful\u001b[0m\n",
            "You can now load the model via spacy.load('en_core_web_sm')\n",
            "\u001b[38;5;2m✔ Linking successful\u001b[0m\n",
            "/usr/local/lib/python3.7/dist-packages/en_core_web_sm -->\n",
            "/usr/local/lib/python3.7/dist-packages/spacy/data/en\n",
            "You can now load the model via spacy.load('en')\n",
            "Requirement already satisfied: de_core_news_sm==2.2.5 from https://github.com/explosion/spacy-models/releases/download/de_core_news_sm-2.2.5/de_core_news_sm-2.2.5.tar.gz#egg=de_core_news_sm==2.2.5 in /usr/local/lib/python3.7/dist-packages (2.2.5)\n",
            "Requirement already satisfied: spacy>=2.2.2 in /usr/local/lib/python3.7/dist-packages (from de_core_news_sm==2.2.5) (2.2.4)\n",
            "Requirement already satisfied: blis<0.5.0,>=0.4.0 in /usr/local/lib/python3.7/dist-packages (from spacy>=2.2.2->de_core_news_sm==2.2.5) (0.4.1)\n",
            "Requirement already satisfied: wasabi<1.1.0,>=0.4.0 in /usr/local/lib/python3.7/dist-packages (from spacy>=2.2.2->de_core_news_sm==2.2.5) (0.8.2)\n",
            "Requirement already satisfied: setuptools in /usr/local/lib/python3.7/dist-packages (from spacy>=2.2.2->de_core_news_sm==2.2.5) (54.0.0)\n",
            "Requirement already satisfied: thinc==7.4.0 in /usr/local/lib/python3.7/dist-packages (from spacy>=2.2.2->de_core_news_sm==2.2.5) (7.4.0)\n",
            "Requirement already satisfied: cymem<2.1.0,>=2.0.2 in /usr/local/lib/python3.7/dist-packages (from spacy>=2.2.2->de_core_news_sm==2.2.5) (2.0.5)\n",
            "Requirement already satisfied: srsly<1.1.0,>=1.0.2 in /usr/local/lib/python3.7/dist-packages (from spacy>=2.2.2->de_core_news_sm==2.2.5) (1.0.5)\n",
            "Requirement already satisfied: numpy>=1.15.0 in /usr/local/lib/python3.7/dist-packages (from spacy>=2.2.2->de_core_news_sm==2.2.5) (1.19.5)\n",
            "Requirement already satisfied: requests<3.0.0,>=2.13.0 in /usr/local/lib/python3.7/dist-packages (from spacy>=2.2.2->de_core_news_sm==2.2.5) (2.23.0)\n",
            "Requirement already satisfied: tqdm<5.0.0,>=4.38.0 in /usr/local/lib/python3.7/dist-packages (from spacy>=2.2.2->de_core_news_sm==2.2.5) (4.41.1)\n",
            "Requirement already satisfied: plac<1.2.0,>=0.9.6 in /usr/local/lib/python3.7/dist-packages (from spacy>=2.2.2->de_core_news_sm==2.2.5) (1.1.3)\n",
            "Requirement already satisfied: preshed<3.1.0,>=3.0.2 in /usr/local/lib/python3.7/dist-packages (from spacy>=2.2.2->de_core_news_sm==2.2.5) (3.0.5)\n",
            "Requirement already satisfied: murmurhash<1.1.0,>=0.28.0 in /usr/local/lib/python3.7/dist-packages (from spacy>=2.2.2->de_core_news_sm==2.2.5) (1.0.5)\n",
            "Requirement already satisfied: catalogue<1.1.0,>=0.0.7 in /usr/local/lib/python3.7/dist-packages (from spacy>=2.2.2->de_core_news_sm==2.2.5) (1.0.0)\n",
            "Requirement already satisfied: certifi>=2017.4.17 in /usr/local/lib/python3.7/dist-packages (from requests<3.0.0,>=2.13.0->spacy>=2.2.2->de_core_news_sm==2.2.5) (2020.12.5)\n",
            "Requirement already satisfied: idna<3,>=2.5 in /usr/local/lib/python3.7/dist-packages (from requests<3.0.0,>=2.13.0->spacy>=2.2.2->de_core_news_sm==2.2.5) (2.10)\n",
            "Requirement already satisfied: chardet<4,>=3.0.2 in /usr/local/lib/python3.7/dist-packages (from requests<3.0.0,>=2.13.0->spacy>=2.2.2->de_core_news_sm==2.2.5) (3.0.4)\n",
            "Requirement already satisfied: urllib3!=1.25.0,!=1.25.1,<1.26,>=1.21.1 in /usr/local/lib/python3.7/dist-packages (from requests<3.0.0,>=2.13.0->spacy>=2.2.2->de_core_news_sm==2.2.5) (1.24.3)\n",
            "Requirement already satisfied: importlib-metadata>=0.20; python_version < \"3.8\" in /usr/local/lib/python3.7/dist-packages (from catalogue<1.1.0,>=0.0.7->spacy>=2.2.2->de_core_news_sm==2.2.5) (3.7.2)\n",
            "Requirement already satisfied: typing-extensions>=3.6.4; python_version < \"3.8\" in /usr/local/lib/python3.7/dist-packages (from importlib-metadata>=0.20; python_version < \"3.8\"->catalogue<1.1.0,>=0.0.7->spacy>=2.2.2->de_core_news_sm==2.2.5) (3.7.4.3)\n",
            "Requirement already satisfied: zipp>=0.5 in /usr/local/lib/python3.7/dist-packages (from importlib-metadata>=0.20; python_version < \"3.8\"->catalogue<1.1.0,>=0.0.7->spacy>=2.2.2->de_core_news_sm==2.2.5) (3.4.1)\n",
            "\u001b[38;5;2m✔ Download and installation successful\u001b[0m\n",
            "You can now load the model via spacy.load('de_core_news_sm')\n",
            "\u001b[38;5;2m✔ Linking successful\u001b[0m\n",
            "/usr/local/lib/python3.7/dist-packages/de_core_news_sm -->\n",
            "/usr/local/lib/python3.7/dist-packages/spacy/data/de\n",
            "You can now load the model via spacy.load('de')\n"
          ],
          "name": "stdout"
        }
      ]
    },
    {
      "cell_type": "code",
      "metadata": {
        "id": "Jgq5uSdQIw0G"
      },
      "source": [
        "import torchtext\n",
        "import torch\n",
        "from torchtext.data.utils import get_tokenizer\n",
        "from collections import Counter\n",
        "from torchtext.vocab import Vocab\n",
        "from torchtext.utils import download_from_url, extract_archive\n",
        "import io\n",
        "\n",
        "url_base = 'https://raw.githubusercontent.com/multi30k/dataset/master/data/task1/raw/'\n",
        "train_urls = ('train.de.gz', 'train.en.gz')\n",
        "val_urls = ('val.de.gz', 'val.en.gz')\n",
        "test_urls = ('test_2016_flickr.de.gz', 'test_2016_flickr.en.gz')\n",
        "\n",
        "train_filepaths = [extract_archive(download_from_url(url_base + url))[0] for url in train_urls]\n",
        "val_filepaths = [extract_archive(download_from_url(url_base + url))[0] for url in val_urls]\n",
        "test_filepaths = [extract_archive(download_from_url(url_base + url))[0] for url in test_urls]\n",
        "\n",
        "de_tokenizer = get_tokenizer('spacy', language='de')\n",
        "en_tokenizer = get_tokenizer('spacy', language='en')\n",
        "\n",
        "def build_vocab(filepath, tokenizer):\n",
        "  counter = Counter()\n",
        "  with io.open(filepath, encoding=\"utf8\") as f:\n",
        "    for string_ in f:\n",
        "      counter.update(tokenizer(string_))\n",
        "  return Vocab(counter, specials=['<unk>', '<pad>', '<bos>', '<eos>'])\n",
        "\n",
        "de_vocab = build_vocab(train_filepaths[0], de_tokenizer)\n",
        "en_vocab = build_vocab(train_filepaths[1], en_tokenizer)\n",
        "\n",
        "def data_process(filepaths):\n",
        "  raw_de_iter = iter(io.open(filepaths[0], encoding=\"utf8\"))\n",
        "  raw_en_iter = iter(io.open(filepaths[1], encoding=\"utf8\"))\n",
        "  data = []\n",
        "  for (raw_de, raw_en) in zip(raw_de_iter, raw_en_iter):\n",
        "    de_tensor_ = torch.tensor([de_vocab[token] for token in de_tokenizer(raw_de)],\n",
        "                            dtype=torch.long)\n",
        "    en_tensor_ = torch.tensor([en_vocab[token] for token in en_tokenizer(raw_en)],\n",
        "                            dtype=torch.long)\n",
        "    data.append((de_tensor_, en_tensor_))\n",
        "  return data\n",
        "\n",
        "def copy_task_data_process(vocab_size, seq_length, num_points):\n",
        "  data = []\n",
        "  for i in range(num_points):\n",
        "    src_tensor = torch.randint(4, vocab_size, size=(seq_length,))\n",
        "    copy_tensor = src_tensor.clone()\n",
        "    data.append((src_tensor, copy_tensor))\n",
        "  return data\n",
        "\n",
        "def subtract_task_data_process(max_vocab_size, seq_length, num_points):\n",
        "  # Task is to predict a sequence with \"1\" subtracted from source sequence\n",
        "  data = []\n",
        "  for i in range(num_points):\n",
        "    src_tensor = torch.randint(5, max_vocab_size, size=(seq_length,))\n",
        "    trg_tensor = src_tensor - 1\n",
        "    data.append((src_tensor, trg_tensor))\n",
        "  return data\n",
        "\n",
        "\n",
        "train_data = data_process(train_filepaths)\n",
        "val_data = data_process(val_filepaths)\n",
        "test_data = data_process(test_filepaths)\n",
        "\n",
        "COPY_VOCAB_SIZE = 11\n",
        "COPY_SEQ_LENGTH = 10\n",
        "NUM_POINTS = 8192\n",
        "MAX_VOCAB_SIZE = 15\n",
        "# train_data = copy_task_data_process(COPY_VOCAB_SIZE, COPY_SEQ_LENGTH, NUM_POINTS)\n",
        "# val_data = copy_task_data_process(COPY_VOCAB_SIZE, COPY_SEQ_LENGTH, NUM_POINTS)\n",
        "# test_data = copy_task_data_process(COPY_VOCAB_SIZE, COPY_SEQ_LENGTH, NUM_POINTS)\n",
        "\n",
        "\n",
        "train_data = subtract_task_data_process(MAX_VOCAB_SIZE, COPY_SEQ_LENGTH, NUM_POINTS)\n",
        "val_data = subtract_task_data_process(MAX_VOCAB_SIZE, COPY_SEQ_LENGTH, NUM_POINTS//2)\n",
        "test_data = subtract_task_data_process(MAX_VOCAB_SIZE, COPY_SEQ_LENGTH, NUM_POINTS//2)"
      ],
      "execution_count": 24,
      "outputs": []
    },
    {
      "cell_type": "code",
      "metadata": {
        "id": "Qg53HJ4SJL-i"
      },
      "source": [
        "import torch\n",
        "\n",
        "device = torch.device('cuda' if torch.cuda.is_available() else 'cpu')\n",
        "\n",
        "BATCH_SIZE = 128\n",
        "PAD_IDX = de_vocab['<pad>']\n",
        "BOS_IDX = de_vocab['<bos>']\n",
        "EOS_IDX = de_vocab['<eos>']\n",
        "\n",
        "from torch.nn.utils.rnn import pad_sequence\n",
        "from torch.utils.data import DataLoader\n",
        "\n",
        "def generate_batch(data_batch):\n",
        "  de_batch, en_batch = [], []\n",
        "  for (de_item, en_item) in data_batch:\n",
        "    de_batch.append(torch.cat([torch.tensor([BOS_IDX]), de_item, torch.tensor([EOS_IDX])], dim=0))\n",
        "    en_batch.append(torch.cat([torch.tensor([BOS_IDX]), en_item, torch.tensor([EOS_IDX])], dim=0))\n",
        "  de_batch = pad_sequence(de_batch, padding_value=PAD_IDX)\n",
        "  en_batch = pad_sequence(en_batch, padding_value=PAD_IDX)\n",
        "  return de_batch.transpose(0, 1), en_batch.transpose(0, 1)\n",
        "\n",
        "train_iter = DataLoader(train_data, batch_size=BATCH_SIZE,\n",
        "                        shuffle=True, collate_fn=generate_batch)\n",
        "valid_iter = DataLoader(val_data, batch_size=BATCH_SIZE,\n",
        "                        shuffle=True, collate_fn=generate_batch)\n",
        "test_iter = DataLoader(test_data, batch_size=BATCH_SIZE,\n",
        "                       shuffle=True, collate_fn=generate_batch)"
      ],
      "execution_count": 25,
      "outputs": []
    },
    {
      "cell_type": "code",
      "metadata": {
        "id": "yVHLQ2In73OD"
      },
      "source": [
        "class PositionalEncoding(nn.Module):\n",
        "    def __init__(self, dmodel, maxlen=5000):\n",
        "        # Positional encoding should be added to token emebedding\n",
        "        # We create positional encoding for sequences upto 5000 tokens\n",
        "        # Output: [1, maxlen, dmodel]\n",
        "        super(PositionalEncoding, self).__init__()\n",
        "\n",
        "        den = torch.exp(- torch.arange(0, dmodel, 2) * math.log(10000) / dmodel)\n",
        "        # den dimension: dmodel\n",
        "        pos = torch.arange(0, maxlen).reshape(maxlen, 1)\n",
        "        # pos: maxlen X 1\n",
        "\n",
        "        pos_embedding = torch.zeros((maxlen, dmodel))\n",
        "        pos_embedding[:, 0::2] = torch.sin(pos * den)\n",
        "        pos_embedding[:, 1::2] = torch.cos(pos * den)\n",
        "\n",
        "\n",
        "        pos_embedding = pos_embedding.unsqueeze(0)\n",
        "\n",
        "        self.register_buffer('pos_embedding', pos_embedding)\n",
        "        # pos_embedding: 1 X maxlen X emb_dim\n",
        "\n",
        "    def forward(self, x):\n",
        "        # inputs: Batch_size X seq\n",
        "        # outputs: Batch_size X seq X emb dim\n",
        "        return x + self.pos_embedding[:, :x.size(1)]\n",
        "\n",
        "class Embeddings(nn.Module):\n",
        "    def __init__(self, vocab_size, dmodel):\n",
        "        super(Embeddings, self).__init__()\n",
        "        self.embedding = nn.Embedding(vocab_size, dmodel)\n",
        "        self.dmodel = dmodel\n",
        "    def forward(self, inps):\n",
        "        return self.embedding(inps.long()) * np.sqrt(self.dmodel)\n",
        "\n",
        "\n",
        "class Generator(nn.Module):\n",
        "    def __init__(self, dmodel, vocab):\n",
        "        super(Generator, self).__init__()\n",
        "        self.dmodel = dmodel\n",
        "        self.vocab = vocab\n",
        "        self.linear = nn.Linear(dmodel, vocab)\n",
        "    def forward(self, inp):\n",
        "        return self.linear(inp)\n",
        "\n",
        "class StandardTransformer(nn.Module):\n",
        "    def __init__(self, num_blocks, dmodel, src_vocab_size, trg_vocab_size, generator):\n",
        "        super(StandardTransformer, self).__init__()\n",
        "        self.transformer = Transformer(num_encoder_layers = num_blocks, num_decoder_layers = num_blocks, d_model=dmodel)\n",
        "        self.generator = generator\n",
        "        self.src_embedding = Embeddings(src_vocab_size, dmodel)\n",
        "        self.target_embedding = Embeddings(trg_vocab_size, dmodel)\n",
        "        # self.positional_encoding = WeightedPositionalEncoding(dmodel)\n",
        "        self.positional_encoding = PositionalEncoding(dmodel)\n",
        "\n",
        "    def forward(self, src, trg, src_mask, trg_mask):\n",
        "        src_emb = self.positional_encoding(self.src_embedding(src))\n",
        "        trg_emb = self.positional_encoding(self.target_embedding(trg))\n",
        "        src_emb = src_emb.transpose(0,1)\n",
        "        trg_emb = trg_emb.transpose(0, 1)\n",
        "        outs = self.transformer(src_emb, trg_emb, src_mask=src_mask, tgt_mask=trg_mask)\n",
        "        return self.generator(outs)\n",
        "\n",
        "    def encode(self, src, src_mask):\n",
        "        return self.transformer.encoder(self.positional_encoding(self.src_embedding(src)).transpose(0, 1), src_mask)\n",
        "\n",
        "    def decode(self, memory, src_mask, tgt, tgt_mask):\n",
        "        return self.transformer.decoder(self.positional_encoding(self.target_embedding(tgt)).transpose(0, 1), memory, tgt_mask, src_mask)\n",
        "\n",
        "def generate_square_subsequent_mask(sz):\n",
        "    r\"\"\"Generate a square mask for the sequence. The masked positions are filled with float('-inf').\n",
        "        Unmasked positions are filled with float(0.0).\n",
        "    \"\"\"\n",
        "    mask = (torch.triu(torch.ones(sz, sz)) == 1).transpose(0, 1)\n",
        "    mask = mask.float().masked_fill(mask == 0, float('-inf')).masked_fill(mask == 1, float(0.0))\n",
        "    return mask"
      ],
      "execution_count": 26,
      "outputs": []
    },
    {
      "cell_type": "code",
      "metadata": {
        "colab": {
          "base_uri": "https://localhost:8080/"
        },
        "id": "oIWwYuMk7612",
        "outputId": "2c94b411-b3b0-4fde-affd-7e70aab9585b"
      },
      "source": [
        "# We will run transfer models on synthetic task.\n",
        "# The synthetic task we are interested in is, Given a sequence of tokens\n",
        "# Keep tokens at even position\n",
        "import numpy as np\n",
        "from torch.nn import Transformer\n",
        "from tqdm import tqdm\n",
        "from torch.autograd import Variable\n",
        "\n",
        "\n",
        "def data_gen(vocab_size, num_points, seq_len):\n",
        "    # Sequence of tokens\n",
        "    src = torch.randint(0, vocab_size, size=(num_points, seq_len))\n",
        "    trg = src.clone()\n",
        "    trg = src\n",
        "    return src, trg\n",
        "\n",
        "\n",
        "class Batch:\n",
        "    def __init__(self, src, trg):\n",
        "        self.src = src\n",
        "        self.trg = trg\n",
        "        self.i = 0\n",
        "\n",
        "    def next_batch(self, batch_size):\n",
        "        while self.i < self.src.shape[0]:\n",
        "            i = self.i\n",
        "            src_batch = self.src[i : i + batch_size, :]\n",
        "            trg_batch = self.trg[i : i + batch_size, :]\n",
        "            # Inputs to decoder are shifted right\n",
        "            trg_inputs = trg_batch[:, :-1]\n",
        "            trg_outs = trg_batch[:, 1:]\n",
        "            self.i += batch_size\n",
        "            yield src_batch, trg_inputs, trg_outs\n",
        "\n",
        "\n",
        "src_vocab_size = MAX_VOCAB_SIZE + 1\n",
        "trg_vocab_size = src_vocab_size - 1\n",
        "dmodel = 512\n",
        "nhead = 2\n",
        "batch_size = 30\n",
        "num_blocks = 2\n",
        "\n",
        "generator = Generator(dmodel, trg_vocab_size)\n",
        "\n",
        "encoder_decoder = StandardTransformer(num_blocks, dmodel, src_vocab_size,\n",
        "                                      trg_vocab_size, generator)\n",
        "encoder_decoder = encoder_decoder.to(device)\n",
        "loss_fn = torch.nn.CrossEntropyLoss()\n",
        "\n",
        "optimizer = torch.optim.Adam(\n",
        "    encoder_decoder.parameters(), lr=0.0001, betas=(0.9, 0.98), eps=1e-9\n",
        ")\n",
        "\n",
        "for p in encoder_decoder.parameters():\n",
        "    if p.dim() > 1:\n",
        "        nn.init.xavier_uniform(p)\n",
        "        # nn.init.constant_(p, 0.001)\n",
        "\n",
        "\n",
        "for epoch in range(4):\n",
        "    losses = []\n",
        "    val_loss = []\n",
        "    encoder_decoder.train()\n",
        "    for idx, (src_input, trg_input) in tqdm(\n",
        "        enumerate(train_iter)\n",
        "    ):\n",
        "        trg_out = trg_input[:, 1:]\n",
        "        trg_input = trg_input[:, :-1]\n",
        "        # B X 1 X  Seq ( all True)\n",
        "        src_mask = torch.zeros((src_input.shape[-1], src_input.shape[-1])).type(torch.bool)\n",
        "        trg_mask = generate_square_subsequent_mask(trg_input.shape[-1])\n",
        "        # B X seq X vocab_size\n",
        "        src_input, trg_input, trg_out = src_input.to(device), trg_input.to(device), trg_out.to(device)\n",
        "        src_mask, trg_mask = src_mask.to(device), trg_mask.to(device)\n",
        "        # print(\"src\")\n",
        "        # print(src_input[0, :])\n",
        "        # print(\"trg\")\n",
        "        # print(trg_input[0, :])\n",
        "        # print(\"trg_out\")\n",
        "        # print(trg_out[0, :])\n",
        "        logits = encoder_decoder(src_input, trg_input, src_mask, trg_mask)\n",
        "        logits = logits.transpose(0, 1)\n",
        "        optimizer.zero_grad()\n",
        "        loss = loss_fn(logits.reshape(-1, logits.shape[-1]), trg_out.reshape(-1))\n",
        "        # make_dot(loss, dict(encoder_decoder.named_parameters())).render(\"tranformer_torchviz\", format=\"png\")\n",
        "        loss.backward()\n",
        "        optimizer.step()\n",
        "        losses.append(loss.item())\n",
        "    encoder_decoder.eval()\n",
        "    for idx, (src_input, trg_input) in tqdm(\n",
        "        enumerate(valid_iter)\n",
        "    ):\n",
        "        # B X 1 X  Seq ( all True)\n",
        "        trg_out = trg_input[:, 1:]\n",
        "        trg_input = trg_input[:, :-1]\n",
        "        src_mask = torch.zeros((src_input.shape[-1], src_input.shape[-1])).type(torch.bool)\n",
        "        trg_mask = generate_square_subsequent_mask(trg_input.shape[-1])\n",
        "        # B X seq X vocab_size\n",
        "        src_input, trg_input, trg_out = src_input.to(device), trg_input.to(device), trg_out.to(device)\n",
        "        src_mask, trg_mask = src_mask.to(device), trg_mask.to(device)\n",
        "        logits = encoder_decoder(src_input, trg_input, src_mask, trg_mask)\n",
        "        logits = logits.transpose(0, 1)\n",
        "        loss = loss_fn(logits.reshape(-1, logits.shape[-1]), trg_out.reshape(-1))\n",
        "        # make_dot(loss, dict(encoder_decoder.named_parameters())).render(\"tranformer_torchviz\", format=\"png\")\n",
        "        val_loss.append(loss.item())\n",
        "    print(f\"epoch = {epoch}, loss = {np.mean(losses)}, val loss = {np.mean(val_loss)}\")\n"
      ],
      "execution_count": 31,
      "outputs": [
        {
          "output_type": "stream",
          "text": [
            "/usr/local/lib/python3.7/dist-packages/ipykernel_launcher.py:56: UserWarning: nn.init.xavier_uniform is now deprecated in favor of nn.init.xavier_uniform_.\n",
            "64it [00:03, 17.28it/s]\n",
            "32it [00:00, 50.14it/s]\n",
            "2it [00:00, 18.37it/s]"
          ],
          "name": "stderr"
        },
        {
          "output_type": "stream",
          "text": [
            "epoch = 0, loss = 1.7909670360386372, val loss = 0.8934269342571497\n"
          ],
          "name": "stdout"
        },
        {
          "output_type": "stream",
          "text": [
            "64it [00:03, 17.50it/s]\n",
            "32it [00:00, 49.47it/s]\n",
            "2it [00:00, 18.15it/s]"
          ],
          "name": "stderr"
        },
        {
          "output_type": "stream",
          "text": [
            "epoch = 1, loss = 0.5242187019903213, val loss = 0.0381301298039034\n"
          ],
          "name": "stdout"
        },
        {
          "output_type": "stream",
          "text": [
            "64it [00:03, 17.34it/s]\n",
            "32it [00:00, 50.46it/s]\n",
            "2it [00:00, 18.05it/s]"
          ],
          "name": "stderr"
        },
        {
          "output_type": "stream",
          "text": [
            "epoch = 2, loss = 0.08696830295957625, val loss = 0.0017492688948550494\n"
          ],
          "name": "stdout"
        },
        {
          "output_type": "stream",
          "text": [
            "64it [00:03, 17.17it/s]\n",
            "32it [00:00, 50.18it/s]"
          ],
          "name": "stderr"
        },
        {
          "output_type": "stream",
          "text": [
            "epoch = 3, loss = 0.030209062228095718, val loss = 0.0006522823182422144\n"
          ],
          "name": "stdout"
        },
        {
          "output_type": "stream",
          "text": [
            "\n"
          ],
          "name": "stderr"
        }
      ]
    },
    {
      "cell_type": "code",
      "metadata": {
        "colab": {
          "base_uri": "https://localhost:8080/"
        },
        "id": "V_72mV649sF1",
        "outputId": "17e4f9b9-249a-4f5b-9299-f1287fcf2901"
      },
      "source": [
        "def greedy_decode(model, src, src_mask, max_len, start_symbol):\n",
        "    src = src.to(device)\n",
        "    src_mask = src_mask.to(device)\n",
        "\n",
        "    memory = model.encode(src, src_mask)\n",
        "    ys = torch.ones(1, 1).fill_(start_symbol).type_as(src.data).to(device)\n",
        "    for i in range(max_len-1):\n",
        "        memory = memory.to(device)\n",
        "        src_mask = src_mask.to(device)\n",
        "        memory_mask = torch.zeros(ys.shape[-1], memory.shape[0]).to(device)\n",
        "        out = model.decode(memory, memory_mask,\n",
        "                           Variable(ys),\n",
        "                           Variable(generate_square_subsequent_mask(ys.size(1))\n",
        "                                    .type_as(src.data)).to(device) == 1)\n",
        "        out = out.transpose(0, 1)\n",
        "        prob = model.generator(out[:, -1])\n",
        "        _, next_word = torch.max(prob, dim = 1)\n",
        "        next_word = next_word.item()\n",
        "        ys = torch.cat([ys,\n",
        "                        torch.ones(1, 1).type_as(src.data).fill_(next_word)], dim=1)\n",
        "    return ys\n",
        "\n",
        "\n",
        "model = encoder_decoder\n",
        "model.eval()\n",
        "src = Variable(torch.LongTensor([[ 2,  5, 9,  9, 12,  7,  6, 12, 10, 10,  7,  3]]).reshape(1, 12) )\n",
        "src_mask = Variable(torch.zeros(12, 12) )\n",
        "print(greedy_decode(model, src, src_mask, max_len=12, start_symbol=BOS_IDX))"
      ],
      "execution_count": 32,
      "outputs": [
        {
          "output_type": "stream",
          "text": [
            "tensor([[ 2,  4,  8,  8, 11,  6,  5, 11,  9,  9,  6,  3]], device='cuda:0')\n"
          ],
          "name": "stdout"
        }
      ]
    },
    {
      "cell_type": "code",
      "metadata": {
        "colab": {
          "base_uri": "https://localhost:8080/"
        },
        "id": "n43yZv3X-FAn",
        "outputId": "a7f9c870-83c5-4ae1-ee5e-3607410ec575"
      },
      "source": [
        "BOS_IDX"
      ],
      "execution_count": 30,
      "outputs": [
        {
          "output_type": "execute_result",
          "data": {
            "text/plain": [
              "2"
            ]
          },
          "metadata": {
            "tags": []
          },
          "execution_count": 30
        }
      ]
    },
    {
      "cell_type": "code",
      "metadata": {
        "colab": {
          "base_uri": "https://localhost:8080/"
        },
        "id": "PWmsC9FI-FEC",
        "outputId": "176128f5-bd93-48ea-d24e-c05625cbb37f"
      },
      "source": [
        "PAD_IDX"
      ],
      "execution_count": 31,
      "outputs": [
        {
          "output_type": "execute_result",
          "data": {
            "text/plain": [
              "1"
            ]
          },
          "metadata": {
            "tags": []
          },
          "execution_count": 31
        }
      ]
    },
    {
      "cell_type": "code",
      "metadata": {
        "colab": {
          "base_uri": "https://localhost:8080/"
        },
        "id": "H_zKE7TeCfD3",
        "outputId": "0e64a571-6702-45cd-f59a-ed3d92b6f64f"
      },
      "source": [
        "EOS_IDX"
      ],
      "execution_count": 32,
      "outputs": [
        {
          "output_type": "execute_result",
          "data": {
            "text/plain": [
              "3"
            ]
          },
          "metadata": {
            "tags": []
          },
          "execution_count": 32
        }
      ]
    },
    {
      "cell_type": "code",
      "metadata": {
        "id": "yAuSuMnTC8tl"
      },
      "source": [
        ""
      ],
      "execution_count": null,
      "outputs": []
    }
  ]
}